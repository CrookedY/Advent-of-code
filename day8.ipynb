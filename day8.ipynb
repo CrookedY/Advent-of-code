{
 "cells": [
  {
   "cell_type": "code",
   "execution_count": 146,
   "metadata": {
    "collapsed": true
   },
   "outputs": [],
   "source": [
    "regexpr = open('regularexpressions.txt').read().rstrip().split('\\n')"
   ]
  },
  {
   "cell_type": "code",
   "execution_count": 147,
   "metadata": {},
   "outputs": [],
   "source": [
    "howhigh=[]\n",
    "letters = {}\n",
    "\n",
    "for i in regexpr:\n",
    "    split = i.split(' ')\n",
    "   # print (split)\n",
    "    if split[0] not in letters:\n",
    "        letters[split[0]] = 0\n",
    "\n",
    "for i in regexpr:\n",
    "    split = i.split(' ')\n",
    "    key = split[4]\n",
    "    value = int(split[6])\n",
    "    change = letters[split[4]]\n",
    "    currentkey = split[0]\n",
    "    #print (change)\n",
    "    if split[5]=='>':\n",
    "        if change>value:\n",
    "            if split[1] == 'inc':\n",
    "                letters[currentkey]+=int(split[2])\n",
    "            elif split[1] == 'dec':\n",
    "                letters[currentkey]-=int(split[2])\n",
    "    elif split[5]=='<':\n",
    "        if change<value:\n",
    "            if split[1] == 'inc':\n",
    "                letters[currentkey]+=int(split[2])\n",
    "            elif split[1] == 'dec':\n",
    "                letters[currentkey]-=int(split[2])\n",
    "    elif split[5]=='<=':\n",
    "        if change <=value:\n",
    "            if split[1] == 'inc':\n",
    "                letters[currentkey]+=int(split[2])\n",
    "            elif split[1] == 'dec':\n",
    "                letters[currentkey]-=int(split[2])\n",
    "    elif split[5]=='>=':\n",
    "        if change>=value:\n",
    "            if split[1] == 'inc':\n",
    "                letters[currentkey]+=int(split[2])\n",
    "            elif split[1] == 'dec':\n",
    "                letters[currentkey]-=int(split[2])\n",
    "    elif split[5]=='==':\n",
    "        if change==value:\n",
    "            if split[1] == 'inc':\n",
    "                letters[currentkey]+=int(split[2])\n",
    "            elif split[1] == 'dec':\n",
    "                letters[currentkey]-=int(split[2])\n",
    "    elif split[5]=='!=':\n",
    "        if change!=value:\n",
    "            if split[1] == 'inc':\n",
    "                letters[currentkey]+=int(split[2])\n",
    "            elif split[1] == 'dec':\n",
    "                letters[currentkey]-=int(split[2])\n",
    "    howhigh.append (letters[currentkey])"
   ]
  },
  {
   "cell_type": "code",
   "execution_count": 148,
   "metadata": {},
   "outputs": [
    {
     "name": "stdout",
     "output_type": "stream",
     "text": [
      "{'ebu': 2899, 'obc': 1997, 'vb': -996, 'wl': -5112, 'xbh': -2071, 'qun': 2569, 'k': -5526, 'wui': 2199, 'qet': 3105, 'n': -745, 'iq': -2231, 'azg': -1361, 'eh': 1183, 'c': 3431, 'sdw': -8033, 'xjo': -458, 'skh': -3907, 'w': -170, 'a': -5887, 'i': -2032, 'v': 40, 'j': 4066, 'kxm': -988, 'vjx': -8123, 'as': 3539, 'tzy': 3579, 'bx': -4770, 'udh': -1682, 'ne': -3469}\n"
     ]
    }
   ],
   "source": [
    "print (letters)"
   ]
  },
  {
   "cell_type": "code",
   "execution_count": 149,
   "metadata": {},
   "outputs": [
    {
     "data": {
      "text/plain": [
       "4066"
      ]
     },
     "execution_count": 149,
     "metadata": {},
     "output_type": "execute_result"
    }
   ],
   "source": [
    "max(letters.values())"
   ]
  },
  {
   "cell_type": "code",
   "execution_count": 150,
   "metadata": {},
   "outputs": [
    {
     "data": {
      "text/plain": [
       "4829"
      ]
     },
     "execution_count": 150,
     "metadata": {},
     "output_type": "execute_result"
    }
   ],
   "source": [
    "max (howhigh)"
   ]
  },
  {
   "cell_type": "code",
   "execution_count": null,
   "metadata": {
    "collapsed": true
   },
   "outputs": [],
   "source": []
  }
 ],
 "metadata": {
  "kernelspec": {
   "display_name": "Python 3",
   "language": "python",
   "name": "python3"
  },
  "language_info": {
   "codemirror_mode": {
    "name": "ipython",
    "version": 3
   },
   "file_extension": ".py",
   "mimetype": "text/x-python",
   "name": "python",
   "nbconvert_exporter": "python",
   "pygments_lexer": "ipython3",
   "version": "3.6.1"
  }
 },
 "nbformat": 4,
 "nbformat_minor": 2
}
