{
 "cells": [
  {
   "cell_type": "code",
   "execution_count": null,
   "metadata": {
    "collapsed": true
   },
   "outputs": [],
   "source": []
  },
  {
   "cell_type": "code",
   "execution_count": 3,
   "metadata": {},
   "outputs": [],
   "source": [
    "number = 325489\n",
    "\n",
    "import math\n",
    "\n",
    "srNumber = math.sqrt( number )"
   ]
  },
  {
   "cell_type": "code",
   "execution_count": 4,
   "metadata": {},
   "outputs": [
    {
     "name": "stdout",
     "output_type": "stream",
     "text": [
      "570\n"
     ]
    }
   ],
   "source": [
    "width = int(srNumber)\n",
    "print(width)\n"
   ]
  },
  {
   "cell_type": "code",
   "execution_count": 9,
   "metadata": {},
   "outputs": [
    {
     "name": "stdout",
     "output_type": "stream",
     "text": [
      "326041\n",
      "325471\n",
      "552\n"
     ]
    }
   ],
   "source": [
    "rightBottom = (width+1)*(width+1)\n",
    "print(rightBottom)\n",
    "leftBottom = rightBottom - width\n",
    "print (leftBottom)\n"
   ]
  },
  {
   "cell_type": "code",
   "execution_count": 11,
   "metadata": {},
   "outputs": [
    {
     "name": "stdout",
     "output_type": "stream",
     "text": [
      "325756.0\n",
      "267.0\n",
      "toatlDist is: 552.0\n"
     ]
    }
   ],
   "source": [
    "if(number >=leftBottom and number <= rightBottom):\n",
    "  midBot = leftBottom + width/2\n",
    "  print(midBot)\n",
    "  horrizonDist = abs(number - midBot)\n",
    "  print(horrizonDist)\n",
    "  totalDist = horrizonDist + width/2\n",
    "print(\"toatlDist is:\", totalDist)"
   ]
  },
  {
   "cell_type": "code",
   "execution_count": null,
   "metadata": {
    "collapsed": true
   },
   "outputs": [],
   "source": []
  }
 ],
 "metadata": {
  "kernelspec": {
   "display_name": "Python 3",
   "language": "python",
   "name": "python3"
  },
  "language_info": {
   "codemirror_mode": {
    "name": "ipython",
    "version": 3
   },
   "file_extension": ".py",
   "mimetype": "text/x-python",
   "name": "python",
   "nbconvert_exporter": "python",
   "pygments_lexer": "ipython3",
   "version": "3.6.1"
  }
 },
 "nbformat": 4,
 "nbformat_minor": 2
}
